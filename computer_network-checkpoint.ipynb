{
 "cells": [
  {
   "cell_type": "code",
   "execution_count": 23,
   "id": "c1eb58f1-0be7-46bb-ae6e-c4a9f0c287d4",
   "metadata": {},
   "outputs": [],
   "source": [
    "# import required libraries\n",
    "import networkx as nx\n",
    "import matplotlib.pyplot as plt\n",
    "\n",
    "# initialize an empty graph\n",
    "G = nx.Graph() # undirected graph"
   ]
  },
  {
   "cell_type": "code",
   "execution_count": 24,
   "id": "322a0741-15f7-4faa-8621-fe8020cd1b29",
   "metadata": {},
   "outputs": [],
   "source": [
    "# Load the airports (nodes) from 'global-cities.dat'\n",
    "with open(\"global-cities.dat\", \"r\") as f:\n",
    "    for line in f:\n",
    "        data = line.strip().split('|')\n",
    "\n",
    "        # ensure line has enough columns\n",
    "        if len(data) < 2:\n",
    "            continue  # Skip invalid lines\n",
    "\n",
    "\n",
    "        try:\n",
    "            node_id = int(data[1])  # Get node ID (second column)\n",
    "            G.add_node(node_id)\n",
    "        except ValueError:\n",
    "            print(f\"Skipping line with invalid node ID: {line.strip()}\")  # Print lines with issues\n",
    "            continue  # Skip lines where the second column is not a valid integer\n",
    "\n",
    "# Load edges from global-net.dat\n",
    "with open(\"global-net.dat\", \"r\") as f:\n",
    "    for line in f:\n",
    "        data = line.strip().split()\n",
    "        if len(data) < 2:\n",
    "            continue\n",
    "        try:\n",
    "            node1 = int(data[0])  # First node ID\n",
    "            node2 = int(data[1])  # Second node ID\n",
    "            G.add_edge(node1, node2)  # Add edge between the nodes to the graph\n",
    "        except ValueError:\n",
    "            print(f\"Skipping line with invalid edge data: {line.strip()}\")"
   ]
  },
  {
   "cell_type": "code",
   "execution_count": 26,
   "id": "d698cb31-ee28-45b1-8168-a30620d41475",
   "metadata": {},
   "outputs": [
    {
     "name": "stdout",
     "output_type": "stream",
     "text": [
      "Number of nodes: 3883\n",
      "Number of edges: 14142\n"
     ]
    }
   ],
   "source": [
    "# get the number of nodes and edges in the graph\n",
    "# question-1\n",
    "number_nodes = G.number_of_nodes()\n",
    "number_edges = G.number_of_edges()\n",
    "\n",
    "\n",
    "print(f\"Number of nodes: {number_nodes}\")\n",
    "print(f\"Number of edges: {number_edges}\")"
   ]
  },
  {
   "cell_type": "code",
   "execution_count": null,
   "id": "cefe549a-0a14-46b4-bc22-8f4b68ead119",
   "metadata": {},
   "outputs": [],
   "source": []
  }
 ],
 "metadata": {
  "kernelspec": {
   "display_name": "Python 3 (ipykernel)",
   "language": "python",
   "name": "python3"
  },
  "language_info": {
   "codemirror_mode": {
    "name": "ipython",
    "version": 3
   },
   "file_extension": ".py",
   "mimetype": "text/x-python",
   "name": "python",
   "nbconvert_exporter": "python",
   "pygments_lexer": "ipython3",
   "version": "3.12.7"
  }
 },
 "nbformat": 4,
 "nbformat_minor": 5
}
